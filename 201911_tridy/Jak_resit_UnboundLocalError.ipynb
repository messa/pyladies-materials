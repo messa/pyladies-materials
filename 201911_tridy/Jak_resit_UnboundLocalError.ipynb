{
  "nbformat": 4,
  "nbformat_minor": 0,
  "metadata": {
    "colab": {
      "name": "Jak resit UnboundLocalError.ipynb",
      "provenance": []
    },
    "kernelspec": {
      "name": "python3",
      "display_name": "Python 3"
    }
  },
  "cells": [
    {
      "cell_type": "markdown",
      "metadata": {
        "id": "PwMir6Zeu1aI",
        "colab_type": "text"
      },
      "source": [
        "**Co nefunguje:**"
      ]
    },
    {
      "cell_type": "code",
      "metadata": {
        "id": "7C4VbBcTu1zG",
        "colab_type": "code",
        "colab": {
          "base_uri": "https://localhost:8080/",
          "height": 334
        },
        "outputId": "be01df8b-77b3-4c5b-83e6-299eed34f15d"
      },
      "source": [
        "pocet = 0\n",
        "\n",
        "def proved_tah():\n",
        "    pocet = pocet + 1\n",
        "\n",
        "\n",
        "proved_tah()\n",
        "print(pocet)"
      ],
      "execution_count": 2,
      "outputs": [
        {
          "output_type": "error",
          "ename": "UnboundLocalError",
          "evalue": "ignored",
          "traceback": [
            "\u001b[0;31m---------------------------------------------------------------------------\u001b[0m",
            "\u001b[0;31mUnboundLocalError\u001b[0m                         Traceback (most recent call last)",
            "\u001b[0;32m<ipython-input-2-d38e8d085386>\u001b[0m in \u001b[0;36m<module>\u001b[0;34m()\u001b[0m\n\u001b[1;32m      5\u001b[0m \u001b[0;34m\u001b[0m\u001b[0m\n\u001b[1;32m      6\u001b[0m \u001b[0;34m\u001b[0m\u001b[0m\n\u001b[0;32m----> 7\u001b[0;31m \u001b[0mproved_tah\u001b[0m\u001b[0;34m(\u001b[0m\u001b[0;34m)\u001b[0m\u001b[0;34m\u001b[0m\u001b[0;34m\u001b[0m\u001b[0m\n\u001b[0m\u001b[1;32m      8\u001b[0m \u001b[0mprint\u001b[0m\u001b[0;34m(\u001b[0m\u001b[0mpocet\u001b[0m\u001b[0;34m)\u001b[0m\u001b[0;34m\u001b[0m\u001b[0;34m\u001b[0m\u001b[0m\n",
            "\u001b[0;32m<ipython-input-2-d38e8d085386>\u001b[0m in \u001b[0;36mproved_tah\u001b[0;34m()\u001b[0m\n\u001b[1;32m      2\u001b[0m \u001b[0;34m\u001b[0m\u001b[0m\n\u001b[1;32m      3\u001b[0m \u001b[0;32mdef\u001b[0m \u001b[0mproved_tah\u001b[0m\u001b[0;34m(\u001b[0m\u001b[0;34m)\u001b[0m\u001b[0;34m:\u001b[0m\u001b[0;34m\u001b[0m\u001b[0;34m\u001b[0m\u001b[0m\n\u001b[0;32m----> 4\u001b[0;31m     \u001b[0mpocet\u001b[0m \u001b[0;34m=\u001b[0m \u001b[0mpocet\u001b[0m \u001b[0;34m+\u001b[0m \u001b[0;36m1\u001b[0m\u001b[0;34m\u001b[0m\u001b[0;34m\u001b[0m\u001b[0m\n\u001b[0m\u001b[1;32m      5\u001b[0m \u001b[0;34m\u001b[0m\u001b[0m\n\u001b[1;32m      6\u001b[0m \u001b[0;34m\u001b[0m\u001b[0m\n",
            "\u001b[0;31mUnboundLocalError\u001b[0m: local variable 'pocet' referenced before assignment"
          ]
        }
      ]
    },
    {
      "cell_type": "markdown",
      "metadata": {
        "id": "AGluH7dkxYU2",
        "colab_type": "text"
      },
      "source": [
        "**Řešení 0:** udělat to nějak úplně jinak"
      ]
    },
    {
      "cell_type": "code",
      "metadata": {
        "id": "XmMQk09yxcmN",
        "colab_type": "code",
        "colab": {
          "base_uri": "https://localhost:8080/",
          "height": 34
        },
        "outputId": "114c80a2-6ec8-4c44-b531-f1c3adb62bb9"
      },
      "source": [
        "def proved_tah():\n",
        "    '''\n",
        "    Vrací True, pokud hráč neuhádl písmenko\n",
        "    '''\n",
        "    return True\n",
        "\n",
        "pocet = 0\n",
        "neuhadl = proved_tah()\n",
        "if neuhadl:\n",
        "    pocet = pocet + 1\n",
        "print(pocet)"
      ],
      "execution_count": 12,
      "outputs": [
        {
          "output_type": "stream",
          "text": [
            "1\n"
          ],
          "name": "stdout"
        }
      ]
    },
    {
      "cell_type": "markdown",
      "metadata": {
        "id": "BvMFWBxWvRGi",
        "colab_type": "text"
      },
      "source": [
        "**Řešení 1:** použít klíčové slovo `global` (dokumentace: https://docs.python.org/3/reference/simple_stmts.html#global)"
      ]
    },
    {
      "cell_type": "code",
      "metadata": {
        "id": "EVY8LcsBvJn0",
        "colab_type": "code",
        "colab": {
          "base_uri": "https://localhost:8080/",
          "height": 34
        },
        "outputId": "34e74b27-896e-4003-fbde-090a3164d729"
      },
      "source": [
        "pocet = 0\n",
        "\n",
        "def proved_tah():\n",
        "    global pocet\n",
        "    pocet = pocet + 1\n",
        "\n",
        "\n",
        "proved_tah()\n",
        "print(pocet)"
      ],
      "execution_count": 4,
      "outputs": [
        {
          "output_type": "stream",
          "text": [
            "1\n"
          ],
          "name": "stdout"
        }
      ]
    },
    {
      "cell_type": "markdown",
      "metadata": {
        "id": "BhtB1UOsvyX0",
        "colab_type": "text"
      },
      "source": [
        "**Řešení 2:** místo přiřazování nové hodnoty do proměnné použít takovou hodnotu, kterou mohu měnit"
      ]
    },
    {
      "cell_type": "code",
      "metadata": {
        "id": "iNuFAG3DvmuZ",
        "colab_type": "code",
        "colab": {
          "base_uri": "https://localhost:8080/",
          "height": 34
        },
        "outputId": "f93fe72a-4710-4d13-f6d0-da0d84c1c6f4"
      },
      "source": [
        "pocet = [0]\n",
        "\n",
        "def proved_tah():\n",
        "    pocet[0] = pocet[0] + 1\n",
        "\n",
        "proved_tah()\n",
        "print(pocet[0])"
      ],
      "execution_count": 6,
      "outputs": [
        {
          "output_type": "stream",
          "text": [
            "1\n"
          ],
          "name": "stdout"
        }
      ]
    },
    {
      "cell_type": "markdown",
      "metadata": {
        "id": "8t_QoYNqwGNY",
        "colab_type": "text"
      },
      "source": [
        "**Řešení 3:** vyhnout se vedlejším efektům (čímž mám na mysli manipulaci s globální proměnnou) a použít prostě vstup a výstup funkce (tj. parametry a return)"
      ]
    },
    {
      "cell_type": "code",
      "metadata": {
        "id": "cqvBRBzdwAvz",
        "colab_type": "code",
        "colab": {
          "base_uri": "https://localhost:8080/",
          "height": 34
        },
        "outputId": "df290295-a758-4057-9fab-c06f25d6b25f"
      },
      "source": [
        "def proved_tah(pocet):\n",
        "    pocet = pocet + 1\n",
        "    return pocet\n",
        "\n",
        "pocet = 0\n",
        "pocet = proved_tah(pocet)\n",
        "print(pocet)"
      ],
      "execution_count": 8,
      "outputs": [
        {
          "output_type": "stream",
          "text": [
            "1\n"
          ],
          "name": "stdout"
        }
      ]
    },
    {
      "cell_type": "markdown",
      "metadata": {
        "id": "Ax3El11cwjKq",
        "colab_type": "text"
      },
      "source": [
        "**Řešení 4:** měnit atribut objektu"
      ]
    },
    {
      "cell_type": "code",
      "metadata": {
        "id": "n41UpSgmwXie",
        "colab_type": "code",
        "colab": {
          "base_uri": "https://localhost:8080/",
          "height": 34
        },
        "outputId": "cb0442e4-d1dd-45a8-9aa4-fa68222aa867"
      },
      "source": [
        "class Hra:\n",
        "\n",
        "    def __init__(self):\n",
        "        self.pocet = 0\n",
        "\n",
        "    def proved_tah(self):\n",
        "        self.pocet = self.pocet + 1\n",
        "\n",
        "\n",
        "h = Hra()\n",
        "h.proved_tah()\n",
        "print(h.pocet)"
      ],
      "execution_count": 9,
      "outputs": [
        {
          "output_type": "stream",
          "text": [
            "1\n"
          ],
          "name": "stdout"
        }
      ]
    },
    {
      "cell_type": "markdown",
      "metadata": {
        "id": "GTkN1_ECw1Ma",
        "colab_type": "text"
      },
      "source": [
        "Nebo třeba takhle:"
      ]
    },
    {
      "cell_type": "code",
      "metadata": {
        "id": "r9bkHaWQwy_2",
        "colab_type": "code",
        "colab": {
          "base_uri": "https://localhost:8080/",
          "height": 34
        },
        "outputId": "10efd31e-cc1c-48f9-b045-74a0b4aac1c1"
      },
      "source": [
        "class Hra:\n",
        "\n",
        "    def __init__(self):\n",
        "        self.pocet = 0\n",
        "\n",
        "\n",
        "def proved_tah(hra):\n",
        "    hra.pocet = hra.pocet + 1\n",
        "\n",
        "h = Hra()\n",
        "proved_tah(h)\n",
        "print(h.pocet)"
      ],
      "execution_count": 10,
      "outputs": [
        {
          "output_type": "stream",
          "text": [
            "1\n"
          ],
          "name": "stdout"
        }
      ]
    },
    {
      "cell_type": "markdown",
      "metadata": {
        "id": "F4RoufN6xCfQ",
        "colab_type": "text"
      },
      "source": [
        "Nebo takhle:"
      ]
    },
    {
      "cell_type": "code",
      "metadata": {
        "id": "BYIsp9taxBpq",
        "colab_type": "code",
        "colab": {
          "base_uri": "https://localhost:8080/",
          "height": 34
        },
        "outputId": "5c0a89d7-b5ed-4648-f458-8225b1486382"
      },
      "source": [
        "class Hra:\n",
        "\n",
        "    def __init__(self):\n",
        "        self.pocet = 0\n",
        "\n",
        "    def zvys_pocet(self):\n",
        "        self.pocet = self.pocet + 1\n",
        "\n",
        "\n",
        "def proved_tah(hra):\n",
        "    hra.zvys_pocet()\n",
        "\n",
        "h = Hra()\n",
        "proved_tah(h)\n",
        "print(h.pocet)"
      ],
      "execution_count": 11,
      "outputs": [
        {
          "output_type": "stream",
          "text": [
            "1\n"
          ],
          "name": "stdout"
        }
      ]
    }
  ]
}