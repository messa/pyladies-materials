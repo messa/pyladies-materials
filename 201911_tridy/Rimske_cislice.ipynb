{
  "nbformat": 4,
  "nbformat_minor": 0,
  "metadata": {
    "colab": {
      "name": "Rimske_cislice.ipynb",
      "provenance": []
    },
    "kernelspec": {
      "name": "python3",
      "display_name": "Python 3"
    }
  },
  "cells": [
    {
      "cell_type": "markdown",
      "metadata": {
        "id": "Y8CTE53l0Alb",
        "colab_type": "text"
      },
      "source": [
        "Nejdřív nějaká testovací data:"
      ]
    },
    {
      "cell_type": "code",
      "metadata": {
        "id": "TyvT3wLE0A0i",
        "colab_type": "code",
        "colab": {
          "base_uri": "https://localhost:8080/",
          "height": 54
        },
        "outputId": "d911fe77-86c6-4436-80c2-79d59f8f7fc0"
      },
      "source": [
        "test_data_str = '''\n",
        "    1 I\n",
        "    2 II\n",
        "    3 III\n",
        "    4 IV\n",
        "    5 V\n",
        "    6 VI\n",
        "    7 VII\n",
        "    8 VIII\n",
        "    9 IX\n",
        "    10 X\n",
        "    11 XI\n",
        "    14 XIV\n",
        "    20 XX\n",
        "    50 L\n",
        "    100 C\n",
        "    99 LXXXXIX\n",
        "    99 XCIX\n",
        "    99 IC\n",
        "    1019 MXIX\n",
        "    2019 MMXIX\n",
        "'''\n",
        "test_data = []\n",
        "for radek in test_data_str.splitlines():\n",
        "    if not radek.strip():\n",
        "        # chceme preskocit prazdne radky\n",
        "        continue\n",
        "    cislo, rimsky = radek.split()\n",
        "    test_data.append((int(cislo), rimsky))\n",
        "print(test_data)\n",
        "# mimochodem, pomocí list comprehension by to bylo kratší a přehlednější :)"
      ],
      "execution_count": 22,
      "outputs": [
        {
          "output_type": "stream",
          "text": [
            "[(1, 'I'), (2, 'II'), (3, 'III'), (4, 'IV'), (5, 'V'), (6, 'VI'), (7, 'VII'), (8, 'VIII'), (9, 'IX'), (10, 'X'), (11, 'XI'), (14, 'XIV'), (20, 'XX'), (50, 'L'), (100, 'C'), (99, 'LXXXXIX'), (99, 'XCIX'), (99, 'IC'), (1019, 'MXIX'), (2019, 'MMXIX')]\n"
          ],
          "name": "stdout"
        }
      ]
    },
    {
      "cell_type": "markdown",
      "metadata": {
        "id": "AmkoYsvV1OC9",
        "colab_type": "text"
      },
      "source": [
        "Řešení:"
      ]
    },
    {
      "cell_type": "code",
      "metadata": {
        "id": "FPAcJjir0l1S",
        "colab_type": "code",
        "colab": {}
      },
      "source": [
        "cislice = {'I': 1, 'V': 5, 'X': 10, 'L': 50, 'C': 100, 'D': 500, 'M': 1000}\n",
        "\n",
        "def nacti_rimske(rimske):\n",
        "    soucet = 0\n",
        "    for pozice, znak in enumerate(rimske):\n",
        "        # existuje v retezci znak, ktery ma vyssi ciselnou hodnotu a je za timto znakem?\n",
        "        if len(rimske) > pozice+1 and cislice[rimske[pozice+1]] > cislice[znak]:\n",
        "            # ano, takze tento znak odcita\n",
        "            soucet -= cislice[znak]\n",
        "        else:\n",
        "            soucet += cislice[znak]\n",
        "    return soucet\n"
      ],
      "execution_count": 0,
      "outputs": []
    },
    {
      "cell_type": "markdown",
      "metadata": {
        "id": "LkYiqYIt2Un2",
        "colab_type": "text"
      },
      "source": [
        "Zkouška:"
      ]
    },
    {
      "cell_type": "code",
      "metadata": {
        "id": "J0AcAell1ot7",
        "colab_type": "code",
        "colab": {
          "base_uri": "https://localhost:8080/",
          "height": 34
        },
        "outputId": "939fc74b-e4ee-462f-dbf3-d9bff90681a8"
      },
      "source": [
        "print(nacti_rimske('XVIV'))"
      ],
      "execution_count": 24,
      "outputs": [
        {
          "output_type": "stream",
          "text": [
            "19\n"
          ],
          "name": "stdout"
        }
      ]
    },
    {
      "cell_type": "markdown",
      "metadata": {
        "id": "c25pnosK2a_m",
        "colab_type": "text"
      },
      "source": [
        "Testy:"
      ]
    },
    {
      "cell_type": "code",
      "metadata": {
        "id": "KR6Rst5l2ZJF",
        "colab_type": "code",
        "colab": {
          "base_uri": "https://localhost:8080/",
          "height": 357
        },
        "outputId": "70a8da22-a709-4951-b395-d47b4d67e65f"
      },
      "source": [
        "def otestuj(nacti):\n",
        "    for spravna_hodnota, rimske_cislo in test_data:\n",
        "        nactena_hodnota = nacti(rimske_cislo)\n",
        "        hodnoceni = 'OK' if nactena_hodnota == spravna_hodnota else 'CHYBA'\n",
        "        print(f'{rimske_cislo:8} {spravna_hodnota:5} {nactena_hodnota:5} {hodnoceni}')\n",
        "\n",
        "otestuj(nacti_rimske)"
      ],
      "execution_count": 28,
      "outputs": [
        {
          "output_type": "stream",
          "text": [
            "I            1     1 OK\n",
            "II           2     2 OK\n",
            "III          3     3 OK\n",
            "IV           4     4 OK\n",
            "V            5     5 OK\n",
            "VI           6     6 OK\n",
            "VII          7     7 OK\n",
            "VIII         8     8 OK\n",
            "IX           9     9 OK\n",
            "X           10    10 OK\n",
            "XI          11    11 OK\n",
            "XIV         14    14 OK\n",
            "XX          20    20 OK\n",
            "L           50    50 OK\n",
            "C          100   100 OK\n",
            "LXXXXIX     99    99 OK\n",
            "XCIX        99    99 OK\n",
            "IC          99    99 OK\n",
            "MXIX      1019  1019 OK\n",
            "MMXIX     2019  2019 OK\n"
          ],
          "name": "stdout"
        }
      ]
    },
    {
      "cell_type": "markdown",
      "metadata": {
        "id": "7YdWwpWh30Cs",
        "colab_type": "text"
      },
      "source": [
        "Komu vadilo to `enumerate`, tak si to může rozepsat:"
      ]
    },
    {
      "cell_type": "code",
      "metadata": {
        "id": "UF_uQUx82xc-",
        "colab_type": "code",
        "colab": {
          "base_uri": "https://localhost:8080/",
          "height": 391
        },
        "outputId": "418e85e4-e543-4ca4-cab8-8345710974cd"
      },
      "source": [
        "cislice = {'I': 1, 'V': 5, 'X': 10, 'L': 50, 'C': 100, 'D': 500, 'M': 1000}\n",
        "\n",
        "def nacti_rimske2(rimske):\n",
        "    soucet = 0\n",
        "    for pozice in range(len(rimske)):\n",
        "        znak = rimske[pozice]\n",
        "        znak_hodnota = cislice[znak]\n",
        "\n",
        "        if pozice+1 < len(rimske):\n",
        "            nasledujici_znak = rimske[pozice+1]\n",
        "            nasledujici_znak_hodnota = cislice[nasledujici_znak]\n",
        "        else:\n",
        "            # jsme na konci retezce\n",
        "            nasledujici_znak_hodnota = None\n",
        "\n",
        "        if nasledujici_znak_hodnota and nasledujici_znak_hodnota > znak_hodnota:\n",
        "            soucet -= znak_hodnota\n",
        "        else:\n",
        "            soucet += znak_hodnota\n",
        "\n",
        "    return soucet\n",
        "\n",
        "\n",
        "print(nacti_rimske2('XVIV'))\n",
        "print()\n",
        "\n",
        "otestuj(nacti_rimske2)"
      ],
      "execution_count": 30,
      "outputs": [
        {
          "output_type": "stream",
          "text": [
            "19\n",
            "\n",
            "I            1     1 OK\n",
            "II           2     2 OK\n",
            "III          3     3 OK\n",
            "IV           4     4 OK\n",
            "V            5     5 OK\n",
            "VI           6     6 OK\n",
            "VII          7     7 OK\n",
            "VIII         8     8 OK\n",
            "IX           9     9 OK\n",
            "X           10    10 OK\n",
            "XI          11    11 OK\n",
            "XIV         14    14 OK\n",
            "XX          20    20 OK\n",
            "L           50    50 OK\n",
            "C          100   100 OK\n",
            "LXXXXIX     99    99 OK\n",
            "XCIX        99    99 OK\n",
            "IC          99    99 OK\n",
            "MXIX      1019  1019 OK\n",
            "MMXIX     2019  2019 OK\n"
          ],
          "name": "stdout"
        }
      ]
    },
    {
      "cell_type": "markdown",
      "metadata": {
        "id": "gPArmwDh7CIp",
        "colab_type": "text"
      },
      "source": [
        "Kdo to chce naopak udělat komplikovaně:"
      ]
    },
    {
      "cell_type": "code",
      "metadata": {
        "id": "67T_iHid60kr",
        "colab_type": "code",
        "colab": {
          "base_uri": "https://localhost:8080/",
          "height": 357
        },
        "outputId": "daa7e226-f8ce-4bfa-af39-a27ee4601af9"
      },
      "source": [
        "cislice = {'I': 1, 'V': 5, 'X': 10, 'L': 50, 'C': 100, 'D': 500, 'M': 1000}\n",
        "\n",
        "def nacti_rimske3(rimske):\n",
        "    hodnoty = [cislice[znak] for znak in rimske]\n",
        "    return sum(\n",
        "        h * (-1 if any(h2 > h for h2 in hodnoty[poz+1:]) else 1)\n",
        "        for poz, h in enumerate(hodnoty)\n",
        "    )\n",
        "\n",
        "otestuj(nacti_rimske3)"
      ],
      "execution_count": 34,
      "outputs": [
        {
          "output_type": "stream",
          "text": [
            "I            1     1 OK\n",
            "II           2     2 OK\n",
            "III          3     3 OK\n",
            "IV           4     4 OK\n",
            "V            5     5 OK\n",
            "VI           6     6 OK\n",
            "VII          7     7 OK\n",
            "VIII         8     8 OK\n",
            "IX           9     9 OK\n",
            "X           10    10 OK\n",
            "XI          11    11 OK\n",
            "XIV         14    14 OK\n",
            "XX          20    20 OK\n",
            "L           50    50 OK\n",
            "C          100   100 OK\n",
            "LXXXXIX     99    99 OK\n",
            "XCIX        99    99 OK\n",
            "IC          99    99 OK\n",
            "MXIX      1019  1019 OK\n",
            "MMXIX     2019  2019 OK\n"
          ],
          "name": "stdout"
        }
      ]
    },
    {
      "cell_type": "code",
      "metadata": {
        "id": "13RMStWV8Wdj",
        "colab_type": "code",
        "colab": {}
      },
      "source": [
        ""
      ],
      "execution_count": 0,
      "outputs": []
    }
  ]
}